{
 "cells": [
  {
   "cell_type": "code",
   "execution_count": 1,
   "id": "d9d288be",
   "metadata": {},
   "outputs": [
    {
     "name": "stdout",
     "output_type": "stream",
     "text": [
      "                   Marker  Frame           X            Y           Z\n",
      "0   LPSI                       1   47.037247  1824.082764  915.186523\n",
      "1   RPSI                       1  141.315079  1833.968018  916.543152\n",
      "2   LFEO                       1    6.355759  1792.682495  461.809998\n",
      "3   LFEA                       1  -36.897717  2140.010010  299.534027\n",
      "4   LFEL                       1 -376.965912  1751.004883  474.776886\n",
      "..                    ...    ...         ...          ...         ...\n",
      "83  RAnkleMoment               1    0.000000     0.000000    0.000000\n",
      "84  LKneeMoment                1    0.000000     0.000000    0.000000\n",
      "85  RKneeMoment                1    0.000000     0.000000    0.000000\n",
      "86  LHipMoment                 1    0.000000     0.000000    0.000000\n",
      "87  RHipMoment                 1    0.000000     0.000000    0.000000\n",
      "\n",
      "[88 rows x 5 columns]\n"
     ]
    }
   ],
   "source": [
    "import c3d\n",
    "import numpy as np\n",
    "import pandas as pd\n",
    "from openpyxl import Workbook\n",
    "from openpyxl.utils.dataframe import dataframe_to_rows\n",
    "\n",
    "with open('currentFrame447.c3d', 'rb') as handle:\n",
    "    reader = c3d.Reader(handle)\n",
    "    markers = reader.point_labels \n",
    "    frames = []\n",
    "#1\n",
    "    # for i, points, _ in reader.read_frames():\n",
    "    #     #print(f'Frame {i}:')\n",
    "    #     for j, marker in enumerate(markers):\n",
    "    #         x = np.array(points[j])\n",
    "    #         sumbuX = np.array(points[:, 0])\n",
    "    #         #print(marker,x)\n",
    "\n",
    "#2\n",
    "# points_data = []\n",
    "# markers_data = []\n",
    "# # for item in enumerate(markers):\n",
    "# #     markers_data.append(item)\n",
    "# for item2 in enumerate(points):\n",
    "#     points_data.append(item2)\n",
    "\n",
    "#df = pd.DataFrame(points_data,columns=['1','2'])\n",
    "#print(df)\n",
    "\n",
    "#3\n",
    "    x_data, y_data, z_data = [], [], []\n",
    "    for i, points, analog in reader.read_frames():\n",
    "        x_data.append(points[:, 0])\n",
    "        y_data.append(points[:, 1])\n",
    "        z_data.append(points[:, 2])\n",
    "    df = pd.DataFrame({'Marker': markers.repeat(len(x_data)),\n",
    "                   'Frame': np.tile(np.arange(len(x_data)) + 1, len(markers)),\n",
    "                   'X': np.array(x_data).flatten(),\n",
    "                   'Y': np.array(y_data).flatten(),\n",
    "                   'Z': np.array(z_data).flatten()})\n",
    "    print(df)\n",
    "\n",
    "# data_arr = np.array(points) \n",
    "# data_1d = data_arr.flatten()\n",
    "# # df1 = pd.DataFrame(i,frames, columns=points)      \n",
    "\n",
    "wb = Workbook()\n",
    "ws = wb.active\n",
    "for r in dataframe_to_rows(df, index=True, header=True):\n",
    "    ws.append(r)  \n",
    "wb.save('cobabaru2.xlsx')\n",
    "\n",
    "# notes\n",
    "# harus memecah variabel X,Y,Z\n",
    "# convert ke xlsx\n",
    "# \n",
    "#"
   ]
  },
  {
   "cell_type": "code",
   "execution_count": null,
   "id": "1fc87ef8",
   "metadata": {},
   "outputs": [],
   "source": []
  },
  {
   "cell_type": "code",
   "execution_count": null,
   "id": "bd1f8c0f",
   "metadata": {},
   "outputs": [],
   "source": []
  },
  {
   "cell_type": "code",
   "execution_count": null,
   "id": "81481f1f",
   "metadata": {},
   "outputs": [],
   "source": []
  }
 ],
 "metadata": {
  "kernelspec": {
   "display_name": "Python 3 (ipykernel)",
   "language": "python",
   "name": "python3"
  },
  "language_info": {
   "codemirror_mode": {
    "name": "ipython",
    "version": 3
   },
   "file_extension": ".py",
   "mimetype": "text/x-python",
   "name": "python",
   "nbconvert_exporter": "python",
   "pygments_lexer": "ipython3",
   "version": "3.11.2"
  }
 },
 "nbformat": 4,
 "nbformat_minor": 5
}
